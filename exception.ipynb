{
 "cells": [
  {
   "cell_type": "markdown",
   "id": "f3fecb05-a99e-4ebb-9836-0c8500d081cc",
   "metadata": {},
   "source": [
    "**basic structure**"
   ]
  },
  {
   "cell_type": "code",
   "execution_count": null,
   "id": "a62dd79f-48bd-4a9f-ab4e-fa16b74e88f9",
   "metadata": {},
   "outputs": [],
   "source": [
    "try:\n",
    "    # risky code that might throw an error\n",
    "except SomeException:\n",
    "    # what to do if that error occurs\n"
   ]
  },
  {
   "cell_type": "code",
   "execution_count": 3,
   "id": "ba47a8df-5190-413a-8381-8635e1f2625c",
   "metadata": {},
   "outputs": [],
   "source": [
    "def div():\n",
    "    a = int(input(\"Enter a number: \"))\n",
    "    print(10 / a)"
   ]
  },
  {
   "cell_type": "code",
   "execution_count": 4,
   "id": "f7270bb5-b381-4db5-932c-9d1f8739c31f",
   "metadata": {},
   "outputs": [
    {
     "name": "stdin",
     "output_type": "stream",
     "text": [
      "Enter a number:  0\n"
     ]
    },
    {
     "ename": "ZeroDivisionError",
     "evalue": "division by zero",
     "output_type": "error",
     "traceback": [
      "\u001b[1;31m---------------------------------------------------------------------------\u001b[0m",
      "\u001b[1;31mZeroDivisionError\u001b[0m                         Traceback (most recent call last)",
      "Cell \u001b[1;32mIn[4], line 1\u001b[0m\n\u001b[1;32m----> 1\u001b[0m \u001b[43mdiv\u001b[49m\u001b[43m(\u001b[49m\u001b[43m)\u001b[49m\n",
      "Cell \u001b[1;32mIn[3], line 3\u001b[0m, in \u001b[0;36mdiv\u001b[1;34m()\u001b[0m\n\u001b[0;32m      1\u001b[0m \u001b[38;5;28;01mdef\u001b[39;00m\u001b[38;5;250m \u001b[39m\u001b[38;5;21mdiv\u001b[39m():\n\u001b[0;32m      2\u001b[0m     a \u001b[38;5;241m=\u001b[39m \u001b[38;5;28mint\u001b[39m(\u001b[38;5;28minput\u001b[39m(\u001b[38;5;124m\"\u001b[39m\u001b[38;5;124mEnter a number: \u001b[39m\u001b[38;5;124m\"\u001b[39m))\n\u001b[1;32m----> 3\u001b[0m     \u001b[38;5;28mprint\u001b[39m(\u001b[38;5;241;43m10\u001b[39;49m\u001b[43m \u001b[49m\u001b[38;5;241;43m/\u001b[39;49m\u001b[43m \u001b[49m\u001b[43ma\u001b[49m)\n",
      "\u001b[1;31mZeroDivisionError\u001b[0m: division by zero"
     ]
    }
   ],
   "source": [
    "div()"
   ]
  },
  {
   "cell_type": "code",
   "execution_count": 5,
   "id": "0e390d7f-9dde-4e21-8024-e401c23259fa",
   "metadata": {},
   "outputs": [
    {
     "name": "stdin",
     "output_type": "stream",
     "text": [
      "Enter a number:  0\n"
     ]
    },
    {
     "name": "stdout",
     "output_type": "stream",
     "text": [
      "Cannot divide by zero!\n"
     ]
    }
   ],
   "source": [
    "try:\n",
    "    div()\n",
    "except ZeroDivisionError:\n",
    "    print(\"Cannot divide by zero!\")\n",
    "except ValueError:\n",
    "    print(\"Invalid input! Please enter a valid number.\")\n"
   ]
  },
  {
   "cell_type": "markdown",
   "id": "011e8228-6b2a-44d2-92d5-92c7aa76c4cb",
   "metadata": {},
   "source": [
    "**Example with else and finally:**"
   ]
  },
  {
   "cell_type": "code",
   "execution_count": 8,
   "id": "42911bdb-1c42-4760-86d5-367dc899849e",
   "metadata": {},
   "outputs": [
    {
     "name": "stdin",
     "output_type": "stream",
     "text": [
      "Enter a number:  5\n"
     ]
    },
    {
     "name": "stdout",
     "output_type": "stream",
     "text": [
      "Result is 2.0\n",
      "Execution complete.\n"
     ]
    }
   ],
   "source": [
    "try:\n",
    "    a = int(input(\"Enter a number: \"))\n",
    "    result = 10 / a\n",
    "except ZeroDivisionError:\n",
    "    print(\"Cannot divide by zero.\")\n",
    "except ValueError:\n",
    "    print(\"Please enter a number.\")\n",
    "else:\n",
    "    print(f\"Result is {result}\")\n",
    "finally:\n",
    "    print(\"Execution complete.\")\n"
   ]
  },
  {
   "cell_type": "markdown",
   "id": "98041897-6060-41d5-a4de-852a67cbc113",
   "metadata": {},
   "source": [
    "***else runs only if no exception happens.***\n",
    "\n",
    "***finally runs no matter what.***"
   ]
  },
  {
   "cell_type": "markdown",
   "id": "a4554f85-848c-4d40-92fa-aa4e8e8519eb",
   "metadata": {},
   "source": [
    "## file handling exception "
   ]
  },
  {
   "cell_type": "code",
   "execution_count": 15,
   "id": "e6f3c6f9-9713-402c-913f-8357025e6bfa",
   "metadata": {},
   "outputs": [
    {
     "name": "stdout",
     "output_type": "stream",
     "text": [
      "The file was not found.\n"
     ]
    }
   ],
   "source": [
    "try:\n",
    "    file = open(\"data.txt\", \"r\")  # Try to open a file\n",
    "    content = file.read()\n",
    "    print(content)\n",
    "except FileNotFoundError:\n",
    "    print(\"The file was not found.\")\n",
    "except IOError:\n",
    "    print(\"An I/O error occurred.\")\n",
    "finally:\n",
    "    try:\n",
    "        file.close()\n",
    "    except NameError:\n",
    "        pass  # file was never opened\n"
   ]
  },
  {
   "cell_type": "code",
   "execution_count": null,
   "id": "a07f715a-5ca2-4145-a477-f9e33797fae1",
   "metadata": {},
   "outputs": [],
   "source": []
  },
  {
   "cell_type": "markdown",
   "id": "d91d585e-9140-402f-9711-c309d7d066df",
   "metadata": {},
   "source": [
    "***Using with ensures the file is automatically closed:***"
   ]
  },
  {
   "cell_type": "code",
   "execution_count": 16,
   "id": "1bab782b-5afe-4a08-b51c-719928bc3af2",
   "metadata": {},
   "outputs": [
    {
     "name": "stdout",
     "output_type": "stream",
     "text": [
      "File not found. Please check the file path.\n"
     ]
    }
   ],
   "source": [
    "try:\n",
    "    with open(\"data.txt\", \"r\") as file:\n",
    "        content = file.read()\n",
    "        print(content)\n",
    "except FileNotFoundError:\n",
    "    print(\"File not found. Please check the file path.\")\n",
    "except IOError:\n",
    "    print(\"Error reading the file.\")\n"
   ]
  },
  {
   "cell_type": "code",
   "execution_count": null,
   "id": "ac3bb707-067b-4c4e-9e8f-b21a115702d8",
   "metadata": {},
   "outputs": [],
   "source": []
  },
  {
   "cell_type": "code",
   "execution_count": null,
   "id": "d03e4fe5-534c-4359-be6a-ce503d7b12f5",
   "metadata": {},
   "outputs": [],
   "source": []
  },
  {
   "cell_type": "code",
   "execution_count": null,
   "id": "2ba57217-271f-4805-a57c-8524023c6013",
   "metadata": {},
   "outputs": [],
   "source": []
  },
  {
   "cell_type": "code",
   "execution_count": null,
   "id": "91f5b7ff-62d5-4c8e-a9f2-58e98b19c3bb",
   "metadata": {},
   "outputs": [],
   "source": []
  },
  {
   "cell_type": "markdown",
   "id": "19538e80-0168-4c5f-a8a8-28d3c81687b4",
   "metadata": {},
   "source": [
    "## With"
   ]
  },
  {
   "cell_type": "markdown",
   "id": "fd9ec22c-614c-4e6b-a67d-b84fb3958e3c",
   "metadata": {},
   "source": [
    "In Python, the **with** statement is used to manage resources like files. \\\n",
    "It makes sure things like files are automatically closed, even if an error happens. \\\n",
    "It's a cleaner and safer way to handle setup and cleanup tasks."
   ]
  },
  {
   "cell_type": "code",
   "execution_count": 33,
   "id": "85b5b771-6627-42fd-93a1-22463b8e43e3",
   "metadata": {},
   "outputs": [],
   "source": [
    "import sqlite3"
   ]
  },
  {
   "cell_type": "code",
   "execution_count": 38,
   "id": "baf7ae82-c166-4647-be95-ac396b7600c4",
   "metadata": {},
   "outputs": [
    {
     "name": "stdout",
     "output_type": "stream",
     "text": [
      "(1, 'Alice', 'alice@example.com')\n",
      "(2, 'Bob', 'bob@example.com')\n",
      "(3, 'Charlie', 'charlie@example.com')\n"
     ]
    }
   ],
   "source": [
    "import sqlite3\n",
    "\n",
    "with sqlite3.connect(\"database.db\") as conn:\n",
    "    cursor = conn.cursor()\n",
    "    cursor.execute(\"SELECT * FROM users\")\n",
    "    rows = cursor.fetchall()\n",
    "\n",
    "    for row in rows:\n",
    "        print(row)"
   ]
  },
  {
   "cell_type": "code",
   "execution_count": null,
   "id": "9a3f59fd-b180-4f32-9623-c47bc48a5806",
   "metadata": {},
   "outputs": [],
   "source": []
  }
 ],
 "metadata": {
  "kernelspec": {
   "display_name": "Python 3 (ipykernel)",
   "language": "python",
   "name": "python3"
  },
  "language_info": {
   "codemirror_mode": {
    "name": "ipython",
    "version": 3
   },
   "file_extension": ".py",
   "mimetype": "text/x-python",
   "name": "python",
   "nbconvert_exporter": "python",
   "pygments_lexer": "ipython3",
   "version": "3.10.11"
  }
 },
 "nbformat": 4,
 "nbformat_minor": 5
}
